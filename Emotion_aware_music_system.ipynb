{
 "cells": [
  {
   "cell_type": "code",
   "execution_count": 1,
   "id": "57360ebe-5106-4d2c-bf8c-d5283c579622",
   "metadata": {},
   "outputs": [],
   "source": [
    "import spotipy"
   ]
  },
  {
   "cell_type": "code",
   "execution_count": 2,
   "id": "aa0bc737-6fdc-44f2-86b0-098301ecf5b4",
   "metadata": {},
   "outputs": [],
   "source": [
    "from spotipy.oauth2 import SpotifyClientCredentials"
   ]
  },
  {
   "cell_type": "code",
   "execution_count": 3,
   "id": "a89b587c-ae2e-4983-9d55-dca986dae297",
   "metadata": {},
   "outputs": [],
   "source": [
    "from spotipy.oauth2 import SpotifyOAuth"
   ]
  },
  {
   "cell_type": "code",
   "execution_count": 4,
   "id": "879a45e0-9a88-4d1f-891c-5f826f7f19e3",
   "metadata": {},
   "outputs": [],
   "source": [
    "from textblob import TextBlob"
   ]
  },
  {
   "cell_type": "code",
   "execution_count": 5,
   "id": "6930e063-fdb1-47a3-aeb3-a5b4ea0dc4c0",
   "metadata": {},
   "outputs": [],
   "source": [
    "import random"
   ]
  },
  {
   "cell_type": "code",
   "execution_count": 6,
   "id": "8c6bece7-f9af-4554-b138-60ddf4623664",
   "metadata": {},
   "outputs": [],
   "source": [
    "import pandas as pd"
   ]
  },
  {
   "cell_type": "code",
   "execution_count": 7,
   "id": "3bb128c1-be1b-41a5-b152-dad43dd54962",
   "metadata": {},
   "outputs": [],
   "source": [
    "from IPython.display import display, HTML"
   ]
  },
  {
   "cell_type": "code",
   "execution_count": 8,
   "id": "483e0e23-d548-405e-b2e7-a1e54421c717",
   "metadata": {},
   "outputs": [
    {
     "name": "stdout",
     "output_type": "stream",
     "text": [
      "Requirement already satisfied: transformers in c:\\anaconda3\\lib\\site-packages (4.48.2)\n",
      "Requirement already satisfied: torch in c:\\anaconda3\\lib\\site-packages (2.7.0)\n",
      "Requirement already satisfied: filelock in c:\\anaconda3\\lib\\site-packages (from transformers) (3.17.0)\n",
      "Requirement already satisfied: huggingface-hub<1.0,>=0.24.0 in c:\\anaconda3\\lib\\site-packages (from transformers) (0.32.3)\n",
      "Requirement already satisfied: numpy>=1.17 in c:\\anaconda3\\lib\\site-packages (from transformers) (1.26.4)\n",
      "Requirement already satisfied: packaging>=20.0 in c:\\anaconda3\\lib\\site-packages (from transformers) (24.2)\n",
      "Requirement already satisfied: pyyaml>=5.1 in c:\\anaconda3\\lib\\site-packages (from transformers) (6.0.2)\n",
      "Requirement already satisfied: regex!=2019.12.17 in c:\\anaconda3\\lib\\site-packages (from transformers) (2024.11.6)\n",
      "Requirement already satisfied: requests in c:\\anaconda3\\lib\\site-packages (from transformers) (2.32.4)\n",
      "Requirement already satisfied: tokenizers<0.22,>=0.21 in c:\\anaconda3\\lib\\site-packages (from transformers) (0.21.1)\n",
      "Requirement already satisfied: safetensors>=0.4.1 in c:\\anaconda3\\lib\\site-packages (from transformers) (0.5.3)\n",
      "Requirement already satisfied: tqdm>=4.27 in c:\\anaconda3\\lib\\site-packages (from transformers) (4.67.1)\n",
      "Requirement already satisfied: fsspec>=2023.5.0 in c:\\anaconda3\\lib\\site-packages (from huggingface-hub<1.0,>=0.24.0->transformers) (2025.3.2)\n",
      "Requirement already satisfied: typing-extensions>=3.7.4.3 in c:\\anaconda3\\lib\\site-packages (from huggingface-hub<1.0,>=0.24.0->transformers) (4.12.2)\n",
      "Requirement already satisfied: sympy>=1.13.3 in c:\\anaconda3\\lib\\site-packages (from torch) (1.13.3)\n",
      "Requirement already satisfied: networkx in c:\\anaconda3\\lib\\site-packages (from torch) (3.4.2)\n",
      "Requirement already satisfied: jinja2 in c:\\anaconda3\\lib\\site-packages (from torch) (3.1.6)\n",
      "Requirement already satisfied: setuptools in c:\\anaconda3\\lib\\site-packages (from torch) (78.1.1)\n",
      "Requirement already satisfied: mpmath<1.4,>=1.1.0 in c:\\anaconda3\\lib\\site-packages (from sympy>=1.13.3->torch) (1.3.0)\n",
      "Requirement already satisfied: colorama in c:\\anaconda3\\lib\\site-packages (from tqdm>=4.27->transformers) (0.4.6)\n",
      "Requirement already satisfied: MarkupSafe>=2.0 in c:\\anaconda3\\lib\\site-packages (from jinja2->torch) (3.0.2)\n",
      "Requirement already satisfied: charset_normalizer<4,>=2 in c:\\anaconda3\\lib\\site-packages (from requests->transformers) (3.3.2)\n",
      "Requirement already satisfied: idna<4,>=2.5 in c:\\anaconda3\\lib\\site-packages (from requests->transformers) (3.7)\n",
      "Requirement already satisfied: urllib3<3,>=1.21.1 in c:\\anaconda3\\lib\\site-packages (from requests->transformers) (2.3.0)\n",
      "Requirement already satisfied: certifi>=2017.4.17 in c:\\anaconda3\\lib\\site-packages (from requests->transformers) (2025.4.26)\n"
     ]
    }
   ],
   "source": [
    "!pip install transformers torch"
   ]
  },
  {
   "cell_type": "code",
   "execution_count": 9,
   "id": "aa1c419c-2e42-401c-b885-86e6fb606fc3",
   "metadata": {},
   "outputs": [],
   "source": [
    "from transformers import pipeline"
   ]
  },
  {
   "cell_type": "code",
   "execution_count": 10,
   "id": "d83c7d2a-acbd-4170-9d0d-8fed6621df92",
   "metadata": {},
   "outputs": [
    {
     "name": "stdout",
     "output_type": "stream",
     "text": [
      "Requirement already satisfied: sentence_splitter in c:\\anaconda3\\lib\\site-packages (1.4)\n",
      "Requirement already satisfied: regex>=2017.12.12 in c:\\anaconda3\\lib\\site-packages (from sentence_splitter) (2024.11.6)\n"
     ]
    }
   ],
   "source": [
    "!pip install sentence_splitter"
   ]
  },
  {
   "cell_type": "code",
   "execution_count": 11,
   "id": "c3b19664-46f7-4b82-824a-10c950d71783",
   "metadata": {},
   "outputs": [],
   "source": [
    "from sentence_splitter import SentenceSplitter"
   ]
  },
  {
   "cell_type": "code",
   "execution_count": 12,
   "id": "87032ae5-afb7-4994-ac6f-18e11ba234c9",
   "metadata": {},
   "outputs": [
    {
     "name": "stdout",
     "output_type": "stream",
     "text": [
      "Requirement already satisfied: numpy in c:\\anaconda3\\lib\\site-packages (1.26.4)\n",
      "Requirement already satisfied: scikit-learn in c:\\anaconda3\\lib\\site-packages (1.6.1)\n",
      "Requirement already satisfied: scipy>=1.6.0 in c:\\anaconda3\\lib\\site-packages (from scikit-learn) (1.15.3)\n",
      "Requirement already satisfied: joblib>=1.2.0 in c:\\anaconda3\\lib\\site-packages (from scikit-learn) (1.5.1)\n",
      "Requirement already satisfied: threadpoolctl>=3.1.0 in c:\\anaconda3\\lib\\site-packages (from scikit-learn) (3.5.0)\n"
     ]
    }
   ],
   "source": [
    "!pip install numpy scikit-learn"
   ]
  },
  {
   "cell_type": "code",
   "execution_count": 13,
   "id": "7061dbe1-4389-4d0c-8716-f74e7d6032b9",
   "metadata": {},
   "outputs": [],
   "source": [
    "import numpy as np"
   ]
  },
  {
   "cell_type": "code",
   "execution_count": 14,
   "id": "d00d7fe5-8f58-4c6a-8ef8-ab2578d7f710",
   "metadata": {},
   "outputs": [],
   "source": [
    "from sklearn.feature_extraction.text import TfidfVectorizer"
   ]
  },
  {
   "cell_type": "code",
   "execution_count": 15,
   "id": "a96cc413-707b-414f-8513-cb22bd2582f9",
   "metadata": {},
   "outputs": [],
   "source": [
    "from sklearn.metrics.pairwise import cosine_similarity"
   ]
  },
  {
   "cell_type": "code",
   "execution_count": 16,
   "id": "9a3aab08-5486-4214-b4e9-718c495c4451",
   "metadata": {},
   "outputs": [
    {
     "name": "stdout",
     "output_type": "stream",
     "text": [
      "Requirement already satisfied: gliclass in c:\\anaconda3\\lib\\site-packages (0.1.11)\n",
      "Requirement already satisfied: numpy<2.0.0,>=1.26.4 in c:\\anaconda3\\lib\\site-packages (from gliclass) (1.26.4)\n",
      "Requirement already satisfied: scikit-learn<2.0.0,>=1.0.0 in c:\\anaconda3\\lib\\site-packages (from gliclass) (1.6.1)\n",
      "Requirement already satisfied: torch<3.0.0,>=2.0.0 in c:\\anaconda3\\lib\\site-packages (from gliclass) (2.7.0)\n",
      "Requirement already satisfied: transformers<=4.48.2,>=4.37.2 in c:\\anaconda3\\lib\\site-packages (from gliclass) (4.48.2)\n",
      "Requirement already satisfied: scipy>=1.6.0 in c:\\anaconda3\\lib\\site-packages (from scikit-learn<2.0.0,>=1.0.0->gliclass) (1.15.3)\n",
      "Requirement already satisfied: joblib>=1.2.0 in c:\\anaconda3\\lib\\site-packages (from scikit-learn<2.0.0,>=1.0.0->gliclass) (1.5.1)\n",
      "Requirement already satisfied: threadpoolctl>=3.1.0 in c:\\anaconda3\\lib\\site-packages (from scikit-learn<2.0.0,>=1.0.0->gliclass) (3.5.0)\n",
      "Requirement already satisfied: filelock in c:\\anaconda3\\lib\\site-packages (from torch<3.0.0,>=2.0.0->gliclass) (3.17.0)\n",
      "Requirement already satisfied: typing-extensions>=4.10.0 in c:\\anaconda3\\lib\\site-packages (from torch<3.0.0,>=2.0.0->gliclass) (4.12.2)\n",
      "Requirement already satisfied: sympy>=1.13.3 in c:\\anaconda3\\lib\\site-packages (from torch<3.0.0,>=2.0.0->gliclass) (1.13.3)\n",
      "Requirement already satisfied: networkx in c:\\anaconda3\\lib\\site-packages (from torch<3.0.0,>=2.0.0->gliclass) (3.4.2)\n",
      "Requirement already satisfied: jinja2 in c:\\anaconda3\\lib\\site-packages (from torch<3.0.0,>=2.0.0->gliclass) (3.1.6)\n",
      "Requirement already satisfied: fsspec in c:\\anaconda3\\lib\\site-packages (from torch<3.0.0,>=2.0.0->gliclass) (2025.3.2)\n",
      "Requirement already satisfied: setuptools in c:\\anaconda3\\lib\\site-packages (from torch<3.0.0,>=2.0.0->gliclass) (78.1.1)\n",
      "Requirement already satisfied: huggingface-hub<1.0,>=0.24.0 in c:\\anaconda3\\lib\\site-packages (from transformers<=4.48.2,>=4.37.2->gliclass) (0.32.3)\n",
      "Requirement already satisfied: packaging>=20.0 in c:\\anaconda3\\lib\\site-packages (from transformers<=4.48.2,>=4.37.2->gliclass) (24.2)\n",
      "Requirement already satisfied: pyyaml>=5.1 in c:\\anaconda3\\lib\\site-packages (from transformers<=4.48.2,>=4.37.2->gliclass) (6.0.2)\n",
      "Requirement already satisfied: regex!=2019.12.17 in c:\\anaconda3\\lib\\site-packages (from transformers<=4.48.2,>=4.37.2->gliclass) (2024.11.6)\n",
      "Requirement already satisfied: requests in c:\\anaconda3\\lib\\site-packages (from transformers<=4.48.2,>=4.37.2->gliclass) (2.32.4)\n",
      "Requirement already satisfied: tokenizers<0.22,>=0.21 in c:\\anaconda3\\lib\\site-packages (from transformers<=4.48.2,>=4.37.2->gliclass) (0.21.1)\n",
      "Requirement already satisfied: safetensors>=0.4.1 in c:\\anaconda3\\lib\\site-packages (from transformers<=4.48.2,>=4.37.2->gliclass) (0.5.3)\n",
      "Requirement already satisfied: tqdm>=4.27 in c:\\anaconda3\\lib\\site-packages (from transformers<=4.48.2,>=4.37.2->gliclass) (4.67.1)\n",
      "Requirement already satisfied: mpmath<1.4,>=1.1.0 in c:\\anaconda3\\lib\\site-packages (from sympy>=1.13.3->torch<3.0.0,>=2.0.0->gliclass) (1.3.0)\n",
      "Requirement already satisfied: colorama in c:\\anaconda3\\lib\\site-packages (from tqdm>=4.27->transformers<=4.48.2,>=4.37.2->gliclass) (0.4.6)\n",
      "Requirement already satisfied: MarkupSafe>=2.0 in c:\\anaconda3\\lib\\site-packages (from jinja2->torch<3.0.0,>=2.0.0->gliclass) (3.0.2)\n",
      "Requirement already satisfied: charset_normalizer<4,>=2 in c:\\anaconda3\\lib\\site-packages (from requests->transformers<=4.48.2,>=4.37.2->gliclass) (3.3.2)\n",
      "Requirement already satisfied: idna<4,>=2.5 in c:\\anaconda3\\lib\\site-packages (from requests->transformers<=4.48.2,>=4.37.2->gliclass) (3.7)\n",
      "Requirement already satisfied: urllib3<3,>=1.21.1 in c:\\anaconda3\\lib\\site-packages (from requests->transformers<=4.48.2,>=4.37.2->gliclass) (2.3.0)\n",
      "Requirement already satisfied: certifi>=2017.4.17 in c:\\anaconda3\\lib\\site-packages (from requests->transformers<=4.48.2,>=4.37.2->gliclass) (2025.4.26)\n"
     ]
    }
   ],
   "source": [
    "!pip install gliclass"
   ]
  },
  {
   "cell_type": "code",
   "execution_count": 17,
   "id": "8105c5ed-d847-46ee-bda4-747b701b838f",
   "metadata": {},
   "outputs": [],
   "source": [
    "from gliclass import GLiClassModel, ZeroShotClassificationPipeline"
   ]
  },
  {
   "cell_type": "code",
   "execution_count": 18,
   "id": "f72fed33-f810-4d12-a450-f835b25a125f",
   "metadata": {},
   "outputs": [],
   "source": [
    "from transformers import AutoTokenizer"
   ]
  },
  {
   "cell_type": "code",
   "execution_count": 19,
   "id": "218dabba-6e2a-4182-8ef5-a7d89e1bb989",
   "metadata": {},
   "outputs": [],
   "source": [
    "SPOTIPY_CLIENT_ID = 'f17bf600f0bb478d9a2d4a92abe94cba'"
   ]
  },
  {
   "cell_type": "code",
   "execution_count": 20,
   "id": "adbd4616-c91c-4342-afa9-63dfca544930",
   "metadata": {},
   "outputs": [],
   "source": [
    "SPOTIPY_CLIENT_SECRET = '15202bade1954c7fb791b19d60824a11'"
   ]
  },
  {
   "cell_type": "code",
   "execution_count": 21,
   "id": "4ee8b3cb-1948-4397-be89-37ae4b9d09a3",
   "metadata": {},
   "outputs": [],
   "source": [
    "auth_manager = SpotifyOAuth(\n",
    "    client_id=SPOTIPY_CLIENT_ID,\n",
    "    client_secret=SPOTIPY_CLIENT_SECRET,\n",
    "    redirect_uri=\"http://127.0.0.1:8888/callback\", \n",
    "    scope=\"user-read-private\",\n",
    "    cache_path=\".cache\"  \n",
    ")\n",
    "sp = spotipy.Spotify(auth_manager=auth_manager)"
   ]
  },
  {
   "cell_type": "code",
   "execution_count": 22,
   "id": "56e4ab78-4c49-4382-a382-39d0e9daa873",
   "metadata": {},
   "outputs": [
    {
     "name": "stderr",
     "output_type": "stream",
     "text": [
      "Device set to use cpu\n",
      "C:\\Anaconda3\\Lib\\site-packages\\transformers\\pipelines\\text_classification.py:106: UserWarning: `return_all_scores` is now deprecated,  if want a similar functionality use `top_k=None` instead of `return_all_scores=True` or `top_k=1` instead of `return_all_scores=False`.\n",
      "  warnings.warn(\n"
     ]
    }
   ],
   "source": [
    "emotion_pipeline = pipeline(\n",
    "    \"text-classification\",\n",
    "    model=\"boltuix/bert-emotion\",\n",
    "    return_all_scores=False,\n",
    "    device=0 \n",
    ")"
   ]
  },
  {
   "cell_type": "code",
   "execution_count": 23,
   "id": "57503896-8565-4bfc-aed8-e4b1ba56812e",
   "metadata": {},
   "outputs": [
    {
     "name": "stderr",
     "output_type": "stream",
     "text": [
      "Device set to use cpu\n"
     ]
    }
   ],
   "source": [
    "zero_shot = pipeline(\n",
    "    \"zero-shot-classification\",\n",
    "    model=\"valhalla/distilbart-mnli-12-3\",\n",
    "    device=0  \n",
    ")"
   ]
  },
  {
   "cell_type": "code",
   "execution_count": 24,
   "id": "8e5074fe-a5a9-4ddc-b594-f6fe59c7f4c1",
   "metadata": {},
   "outputs": [],
   "source": [
    "def classify_emotion_basic(text):\n",
    "    result = emotion_pipeline(text)[0]\n",
    "    return result['label'].lower(), result['score']"
   ]
  },
  {
   "cell_type": "code",
   "execution_count": 25,
   "id": "73279a76-da30-499e-9fe7-2ab29d88dd89",
   "metadata": {},
   "outputs": [],
   "source": [
    "zero_shot_labels = [\n",
    "    \"anger\", \"disgust\", \"fear\", \"sadness\", \"joy\", \"surprise\", \"neutral\",\n",
    "    \"love\", \"embarrassment\", \"confusion\", \"curiosity\", \"excitement\",\n",
    "    \"gratitude\", \"grief\", \"hope\", \"pride\", \"relief\", \"romance\", \"anxiety\",\n",
    "    \"loneliness\", \"disappointment\", \"shame\", \"guilt\", \"trust\"\n",
    "]"
   ]
  },
  {
   "cell_type": "code",
   "execution_count": 26,
   "id": "89654039-37cb-4bb1-ba41-b0a38d305808",
   "metadata": {},
   "outputs": [],
   "source": [
    "def classify_emotion_refined(text):\n",
    "    output = zero_shot([text], zero_shot_labels)[0]\n",
    "    scored = list(zip(output[\"labels\"], output[\"scores\"]))\n",
    "    top3 = sorted(scored, key=lambda x: x[1], reverse=True)[:3]\n",
    "    return [(label.lower(), score) for label, score in top3]"
   ]
  },
  {
   "cell_type": "code",
   "execution_count": 27,
   "id": "1986e325-cb5c-4f86-82f5-bfa7ca5e539b",
   "metadata": {},
   "outputs": [],
   "source": [
    "def map_emotion_to_genre(emotion_list):\n",
    "    for emotion, score in emotion_list:\n",
    "        if emotion in emotion_map:\n",
    "            return emotion_map[emotion]\n",
    "    return (\"confused\", \"experimental\") "
   ]
  },
  {
   "cell_type": "code",
   "execution_count": 28,
   "id": "0f7a9dbf-dd2a-4458-949e-d79715a3cc93",
   "metadata": {},
   "outputs": [
    {
     "name": "stdout",
     "output_type": "stream",
     "text": [
      "\n",
      "Input: I just got dumped and everything tastes like dust\n",
      "  disappointment: 39.27%\n",
      "  disgust: 13.84%\n",
      "  embarrassment: 9.62%\n",
      "\n",
      "Input: My friend surprised me with coffee this morning!\n",
      "  surprise: 60.07%\n",
      "  joy: 13.34%\n",
      "  excitement: 8.76%\n",
      "\n",
      "Input: I feel a bit hopeful about the future\n",
      "  excitement: 54.42%\n",
      "  hope: 14.73%\n",
      "  joy: 7.64%\n",
      "\n",
      "Input: I’m embarrassed I tripped on my own shoelace\n",
      "  embarrassment: 52.88%\n",
      "  shame: 36.74%\n",
      "  disgust: 1.92%\n"
     ]
    }
   ],
   "source": [
    "test_inputs = [\n",
    "    \"I just got dumped and everything tastes like dust\",\n",
    "    \"My friend surprised me with coffee this morning!\",\n",
    "    \"I feel a bit hopeful about the future\",\n",
    "    \"I’m embarrassed I tripped on my own shoelace\"\n",
    "]\n",
    "for text in test_inputs:\n",
    "    print(f\"\\nInput: {text}\")\n",
    "    emotions = classify_emotion_refined(text)\n",
    "    for label, score in emotions:\n",
    "        print(f\"  {label}: {score:.2%}\")"
   ]
  },
  {
   "cell_type": "code",
   "execution_count": 29,
   "id": "31ba3b3c-51c0-4387-aa3f-964eab45d52d",
   "metadata": {},
   "outputs": [],
   "source": [
    "emotion_map = {\n",
    "    \"anger\":        (\"furious\",    \"punk-rock\"),     \n",
    "    \"disgust\":      (\"nauseated\",  \"goth\"),          \n",
    "    \"fear\":         (\"anxious\",    \"ambient\"),       \n",
    "    \"sadness\":      (\"heartbroken\",\"blues\"),\n",
    "    \"joy\":          (\"euphoric\",   \"electro-house\"), \n",
    "    \"surprise\":     (\"curious\",    \"experimental\"),  \n",
    "    \"neutral\":      (\"balanced\",   \"chill\"),\n",
    "    \"love\":         (\"romantic\",   \"indie-pop\"),\n",
    "    \"embarrassment\":(\"mortified\",  \"disco\"),         \n",
    "    \"confusion\":    (\"lost\",       \"electronic\"),\n",
    "    \"curiosity\":    (\"exploratory\",\"world-music\"),\n",
    "    \"excitement\":   (\"energetic\",  \"edm\"),\n",
    "    \"gratitude\":    (\"uplifted\",   \"acoustic\"),\n",
    "    \"grief\":        (\"devastated\", \"ambient\"),       \n",
    "    \"hope\":         (\"optimistic\", \"pop\"),\n",
    "    \"pride\":        (\"confident\",  \"hip-hop\"),\n",
    "    \"relief\":       (\"liberated\",  \"soul\"),\n",
    "    \"romance\":      (\"loving\",     \"singer-songwriter\"),\n",
    "    \"anxiety\":      (\"tense\",      \"downtempo\"),     \n",
    "    \"loneliness\":   (\"isolated\",   \"acoustic\"),\n",
    "    \"disappointment\":(\"pensive\",   \"indie\"),\n",
    "    \"shame\":        (\"withdrawn\",  \"classical\"),\n",
    "    \"guilt\":        (\"heavy-hearted\",\"jazz\"),\n",
    "    \"trust\":        (\"secure\",     \"r-n-b\")\n",
    "}"
   ]
  },
  {
   "cell_type": "code",
   "execution_count": 30,
   "id": "aedc99d4-90b0-41cc-826d-73cf4ccfb6ac",
   "metadata": {},
   "outputs": [],
   "source": [
    "genre_fallbacks = {\n",
    "    \"punk-rock\": \"rock\",\n",
    "    \"goth\": \"alternative\",\n",
    "    \"ambient\": \"chill\",\n",
    "    \"electro-house\": \"electronic\",\n",
    "    \"experimental\": \"electronic\",\n",
    "    \"indie-pop\": \"indie-pop\",\n",
    "    \"disco\": \"dance\",\n",
    "    \"edm\": \"electronic\",\n",
    "    \"acoustic\": \"singer-songwriter\",\n",
    "    \"indie\": \"alternative\",\n",
    "    \"classical\": \"classical\",\n",
    "    \"jazz\": \"jazz\",\n",
    "    \"hip-hop\": \"hip-hop\",\n",
    "    \"pop\": \"pop\",\n",
    "    \"electronic\": \"electronic\",\n",
    "    \"world-music\": \"world-music\",\n",
    "    \"downtempo\": \"electronic\",\n",
    "    \"r-n-b\": \"r-n-b\",\n",
    "    \"folk\": \"folk\",\n",
    "    \"soul\": \"soul\"\n",
    "}"
   ]
  },
  {
   "cell_type": "code",
   "execution_count": 31,
   "id": "a6d885b7-1851-4ba4-9b86-972d01a4f3b8",
   "metadata": {},
   "outputs": [],
   "source": [
    "VALID_SEEDS = {\n",
    "    \"acoustic\", \"afrobeat\", \"alt-rock\", \"alternative\", \"ambient\", \"black-metal\", \"bluegrass\",\n",
    "    \"blues\", \"bossanova\", \"brazil\", \"breakbeat\", \"british\", \"cantopop\", \"chicago-house\", \"children\",\n",
    "    \"chill\", \"classical\", \"club\", \"comedy\", \"country\", \"dance\", \"dancehall\", \"death-metal\", \"deep-house\",\n",
    "    \"detroit-techno\", \"disco\", \"disney\", \"drum-and-bass\", \"dub\", \"dubstep\", \"edm\", \"electro\", \"electronic\",\n",
    "    \"emo\", \"folk\", \"forro\", \"french\", \"funk\", \"garage\", \"german\", \"gospel\", \"goth\", \"grindcore\", \"groove\",\n",
    "    \"grunge\", \"guitar\", \"happy\", \"hard-rock\", \"hardcore\", \"hardstyle\", \"heavy-metal\", \"hip-hop\", \"holidays\",\n",
    "    \"honky-tonk\", \"house\", \"idm\", \"indian\", \"indie\", \"indie-pop\", \"industrial\", \"iranian\", \"j-dance\",\n",
    "    \"j-idol\", \"j-pop\", \"j-rock\", \"jazz\", \"k-pop\", \"kids\", \"latin\", \"latino\", \"malay\", \"mandopop\", \"metal\",\n",
    "    \"metal-misc\", \"metalcore\", \"minimal-techno\", \"movies\", \"mpb\", \"new-age\", \"new-release\", \"opera\",\n",
    "    \"pagode\", \"party\", \"philippines-opm\", \"piano\", \"pop\", \"pop-film\", \"post-dubstep\", \"power-pop\",\n",
    "    \"progressive-house\", \"psych-rock\", \"punk\", \"punk-rock\", \"r-n-b\", \"rainy-day\", \"reggae\", \"reggaeton\",\n",
    "    \"road-trip\", \"rock\", \"rock-n-roll\", \"rockabilly\", \"romance\", \"sad\", \"salsa\", \"samba\", \"sertanejo\",\n",
    "    \"show-tunes\", \"singer-songwriter\", \"ska\", \"sleep\", \"songwriter\", \"soul\", \"soundtracks\", \"spanish\",\n",
    "    \"study\", \"summer\", \"swedish\", \"synth-pop\", \"tango\", \"techno\", \"trance\", \"trip-hop\", \"turkish\",\n",
    "    \"work-out\", \"world-music\"\n",
    "}"
   ]
  },
  {
   "cell_type": "code",
   "execution_count": 32,
   "id": "c163d218-d9d0-42b4-9c56-b5a84bf53df5",
   "metadata": {},
   "outputs": [
    {
     "name": "stdout",
     "output_type": "stream",
     "text": [
      "anger: 'punk-rock' ➜ 'rock'\n",
      "disgust: 'goth' ➜ 'alternative'\n",
      "fear: 'ambient' ➜ 'chill'\n",
      "sadness: 'blues' ➜ 'blues'\n",
      "joy: 'electro-house' ➜ 'electronic'\n",
      "surprise: 'experimental' ➜ 'electronic'\n",
      "neutral: 'chill' ➜ 'chill'\n",
      "love: 'indie-pop' ➜ 'indie-pop'\n",
      "embarrassment: 'disco' ➜ 'dance'\n",
      "confusion: 'electronic' ➜ 'electronic'\n",
      "curiosity: 'world-music' ➜ 'world-music'\n",
      "excitement: 'edm' ➜ 'electronic'\n",
      "gratitude: 'acoustic' ➜ 'singer-songwriter'\n",
      "grief: 'ambient' ➜ 'chill'\n",
      "hope: 'pop' ➜ 'pop'\n",
      "pride: 'hip-hop' ➜ 'hip-hop'\n",
      "relief: 'soul' ➜ 'soul'\n",
      "romance: 'singer-songwriter' ➜ 'singer-songwriter'\n",
      "anxiety: 'downtempo' ➜ 'electronic'\n",
      "loneliness: 'acoustic' ➜ 'singer-songwriter'\n",
      "disappointment: 'indie' ➜ 'alternative'\n",
      "shame: 'classical' ➜ 'classical'\n",
      "guilt: 'jazz' ➜ 'jazz'\n",
      "trust: 'r-n-b' ➜ 'r-n-b'\n"
     ]
    }
   ],
   "source": [
    "def validate_emotion_pipeline():\n",
    "    for emotion, (_, genre) in emotion_map.items():\n",
    "        fallback = genre_fallbacks.get(genre, genre)\n",
    "        if fallback not in VALID_SEEDS:\n",
    "            print(f\"Genre '{genre}' (fallback: '{fallback}') is NOT valid.\")\n",
    "        else:\n",
    "            print(f\"{emotion}: '{genre}' ➜ '{fallback}'\")\n",
    "validate_emotion_pipeline()"
   ]
  },
  {
   "cell_type": "code",
   "execution_count": 33,
   "id": "58b0dc2c-1c61-4c93-a654-fb9323949907",
   "metadata": {},
   "outputs": [],
   "source": [
    "def format_tracks_to_df(tracks):\n",
    "    return pd.DataFrame([{\n",
    "        \"Track\": t['name'],\n",
    "        \"Artist\": \", \".join(a['name'] for a in t['artists']),\n",
    "        \"Preview\": t['preview_url'],\n",
    "        \"Spotify Link\": t['external_urls']['spotify']\n",
    "    } for t in tracks])"
   ]
  },
  {
   "cell_type": "code",
   "execution_count": 34,
   "id": "b00ed021-5782-4813-8388-600acfbb76e6",
   "metadata": {},
   "outputs": [],
   "source": [
    "def _fallback_to_playlist(sp, genre, limit=10):\n",
    "    print(f\"\\nFalling back to public playlists for genre: '{genre}'\")\n",
    "    try:\n",
    "        results = sp.search(q=genre, type='playlist', limit=5)\n",
    "        if not results or not isinstance(results, dict):\n",
    "            print(\" Spotify search returned nothing useful.\")\n",
    "            return pd.DataFrame()\n",
    "        playlists_section = results.get('playlists')\n",
    "        if not playlists_section or not isinstance(playlists_section, dict):\n",
    "            print(\" 'playlists' section missing or invalid in result.\")\n",
    "            return pd.DataFrame()\n",
    "        playlists = playlists_section.get('items', [])\n",
    "        if not playlists or not isinstance(playlists, list):\n",
    "            print(\" No playlist items found.\")\n",
    "            return pd.DataFrame()\n",
    "        for pl in playlists:\n",
    "            pid = pl.get('id')\n",
    "            if not pid:\n",
    "                continue\n",
    "            name = (pl.get('name') or '').strip() or 'Unnamed'\n",
    "            print(f\" Inspecting playlist: {name} (ID: {pid})\")\n",
    "            try:\n",
    "                tracks_data = sp.playlist_tracks(pid)\n",
    "            except Exception as e:\n",
    "                print(f\"  Could not fetch playlist {pid}: {e}\")\n",
    "                continue\n",
    "            track_items = tracks_data.get('items', [])\n",
    "            if not track_items or not isinstance(track_items, list):\n",
    "                continue\n",
    "            cleaned = [\n",
    "                t['track'] for t in track_items\n",
    "                if isinstance(t, dict)\n",
    "                and isinstance(t.get('track'), dict)\n",
    "                and t['track'].get('preview_url')\n",
    "            ]\n",
    "            if cleaned:\n",
    "                print(f\" Found {len(cleaned)} previewable tracks in '{name}'.\")\n",
    "                return pd.DataFrame([{\n",
    "                    \"Track\": t[\"name\"],\n",
    "                    \"Artist\": \", \".join(a[\"name\"] for a in t[\"artists\"]),\n",
    "                    \"Preview\": t[\"preview_url\"],\n",
    "                    \"Spotify Link\": t[\"external_urls\"][\"spotify\"]\n",
    "                } for t in cleaned[:limit]])\n",
    "        print(\" No usable tracks found in any fallback playlists.\")\n",
    "    except Exception as e:\n",
    "        print(f\" Total playlist fallback failure: {e}\")\n",
    "    return pd.DataFrame()"
   ]
  },
  {
   "cell_type": "code",
   "execution_count": 35,
   "id": "a8fd9598-43ee-4d7a-a12b-d3ff390b1a47",
   "metadata": {},
   "outputs": [],
   "source": [
    "def fetch_spotify_tracks(sp, genre, limit=10):\n",
    "    VALID_GENRE = genre_fallbacks.get(genre.lower(), genre.lower())\n",
    "    if VALID_GENRE not in VALID_SEEDS:\n",
    "        print(f\" Genre '{VALID_GENRE}' invalid; using 'chill' instead.\")\n",
    "        VALID_GENRE = \"chill\"\n",
    "    all_found = []\n",
    "    try:\n",
    "        print(f\" Searching for genre:'{VALID_GENRE}' tracks\")\n",
    "        res = sp.search(q=f'genre:\"{VALID_GENRE}\"', type='track', limit=50)\n",
    "        items = res.get('tracks', {}).get('items', []) or []\n",
    "        all_found = [t for t in items if t.get('preview_url')]\n",
    "    except Exception as e:\n",
    "        print(f\"  Genre search failed: {e}\")\n",
    "    if len(all_found) < limit:\n",
    "        try:\n",
    "            print(f\" Expanding with keyword: {VALID_GENRE}\")\n",
    "            res2 = sp.search(q=VALID_GENRE, type='track', limit=50)\n",
    "            items2 = res2.get('tracks', {}).get('items', []) or []\n",
    "            extra = [t for t in items2 if t.get('preview_url') and t not in all_found]\n",
    "            all_found.extend(extra)\n",
    "        except Exception as e:\n",
    "            print(f\"  Keyword search failed: {e}\")\n",
    "    if len(all_found) >= limit:\n",
    "        selected = random.sample(all_found, limit)\n",
    "        return pd.DataFrame([{\n",
    "            \"Track\": t[\"name\"],\n",
    "            \"Artist\": \", \".join(a[\"name\"] for a in t[\"artists\"]),\n",
    "            \"Preview\": t[\"preview_url\"],\n",
    "            \"Spotify Link\": t[\"external_urls\"][\"spotify\"]\n",
    "        } for t in selected])\n",
    "    print(\" No previewable tracks found via standard search.\")\n",
    "    return pd.DataFrame()"
   ]
  },
  {
   "cell_type": "code",
   "execution_count": 36,
   "id": "8da059df-553f-44c0-a21f-f2eae26648e8",
   "metadata": {},
   "outputs": [],
   "source": [
    "def _ai_emotion_search(sp, emotion_list, limit=10):\n",
    "    \"\"\"\n",
    "    Search Spotify by emotion keywords using emotion labels as queries.\n",
    "    This fallback uses the AI-classified emotions directly as search terms.\n",
    "    \"\"\"\n",
    "    print(\"\\nAI-powered emotion search activated.\")\n",
    "    collected = []\n",
    "    for emotion, score in emotion_list:\n",
    "        try:\n",
    "            print(f\" • Searching for tracks related to: '{emotion}' ({score:.1%})\")\n",
    "            res = sp.search(q=emotion, type=\"track\", limit=20)\n",
    "            tracks = res.get(\"tracks\", {}).get(\"items\", []) or []\n",
    "            previewables = [t for t in tracks if t.get(\"preview_url\")]\n",
    "            for t in previewables:\n",
    "                if t not in collected:\n",
    "                    collected.append(t)\n",
    "            if len(collected) >= limit:\n",
    "                break\n",
    "        except Exception as e:\n",
    "            print(f\"   Failed query for '{emotion}': {e}\")\n",
    "    if not collected:\n",
    "        print(\"No tracks found using AI emotion fallback.\")\n",
    "        return pd.DataFrame()\n",
    "    sampled = random.sample(collected, min(limit, len(collected)))\n",
    "    return format_tracks_to_df(sampled)"
   ]
  },
  {
   "cell_type": "code",
   "execution_count": 37,
   "id": "61700650-cb59-4304-b567-1b748a83771e",
   "metadata": {},
   "outputs": [],
   "source": [
    "def mood_bot():\n",
    "    user_input = input(\"Tell me how you're feeling: \")\n",
    "    try:\n",
    "        refined_emotions = classify_emotion_refined(user_input)\n",
    "        print(\"\\nTop Detected Emotions:\")\n",
    "        for label, score in refined_emotions:\n",
    "            print(f\"  {label}: {score:.2%}\")\n",
    "        mood, genre = map_emotion_to_genre(refined_emotions)\n",
    "        print(f\"\\nMapped Mood: {mood}\")\n",
    "        print(f\"Suggested Genre: {genre}\")\n",
    "        playlist_df = fetch_spotify_tracks(sp, genre)\n",
    "        if not playlist_df.empty:\n",
    "            print(\"\\nHere's your personalized playlist:\\n\")\n",
    "            display(playlist_df)\n",
    "            return\n",
    "        print(\"\\nNo luck with direct track search. Trying public playlists...\")\n",
    "        playlist_df = _fallback_to_playlist(sp, genre)\n",
    "        if not playlist_df.empty:\n",
    "            print(\"\\nHere's your playlist scraped from public collections:\\n\")\n",
    "            display(playlist_df)\n",
    "            return\n",
    "        try:\n",
    "            print(\"\\nTrying Spotify's built-in recommendations...\")\n",
    "            rec = sp.recommendations(seed_genres=[genre], limit=50)\n",
    "            rec_tracks = rec.get(\"tracks\", []) or []\n",
    "            rec_filtered = [t for t in rec_tracks if t.get(\"preview_url\")]\n",
    "            if rec_filtered:\n",
    "                sampled = random.sample(rec_filtered, min(10, len(rec_filtered)))\n",
    "                playlist_df = format_tracks_to_df(sampled)\n",
    "                print(\"\\nSpotify's algorithm came through after all:\\n\")\n",
    "                display(playlist_df)\n",
    "                return\n",
    "        except Exception as e:\n",
    "            print(f\"Spotify recommendations failed: {e}\")\n",
    "        print(\"\\nAll Spotify logic failed. Using AI to find tracks based on emotion keywords...\")\n",
    "        ai_df = _ai_emotion_search(sp, refined_emotions)\n",
    "        if not ai_df.empty:\n",
    "            print(\"\\nHere's your AI-curated playlist:\\n\")\n",
    "            display(ai_df)\n",
    "            return\n",
    "        print(\"\\nAll systems failed. AI and Spotify have nothing left to give you. Good luck out there.\")\n",
    "    except Exception as e:\n",
    "        print(f\"\\n Unexpected mood bot failure: {e}\")"
   ]
  },
  {
   "cell_type": "code",
   "execution_count": 38,
   "id": "90c66d67-44d7-459e-a562-37b2a692a20b",
   "metadata": {},
   "outputs": [
    {
     "name": "stdin",
     "output_type": "stream",
     "text": [
      "Tell me how you're feeling:  I just got dumped and everything tastes like dust\n"
     ]
    },
    {
     "name": "stderr",
     "output_type": "stream",
     "text": [
      "Couldn't read cache at: .cache\n",
      "Couldn't read cache at: .cache\n",
      "Couldn't read cache at: .cache\n",
      "Couldn't read cache at: .cache\n",
      "Couldn't read cache at: .cache\n",
      "Couldn't read cache at: .cache\n",
      "Couldn't read cache at: .cache\n"
     ]
    },
    {
     "name": "stdout",
     "output_type": "stream",
     "text": [
      "\n",
      "Top Detected Emotions:\n",
      "  disappointment: 39.27%\n",
      "  disgust: 13.84%\n",
      "  embarrassment: 9.62%\n",
      "\n",
      "Mapped Mood: pensive\n",
      "Suggested Genre: indie\n",
      " Searching for genre:'alternative' tracks\n",
      "  Genre search failed: [WinError 10013] An attempt was made to access a socket in a way forbidden by its access permissions\n",
      " Expanding with keyword: alternative\n",
      "  Keyword search failed: [WinError 10013] An attempt was made to access a socket in a way forbidden by its access permissions\n",
      " No previewable tracks found via standard search.\n",
      "\n",
      "No luck with direct track search. Trying public playlists...\n",
      "\n",
      "Falling back to public playlists for genre: 'indie'\n",
      " Total playlist fallback failure: [WinError 10013] An attempt was made to access a socket in a way forbidden by its access permissions\n",
      "\n",
      "Trying Spotify's built-in recommendations...\n",
      "Spotify recommendations failed: [WinError 10013] An attempt was made to access a socket in a way forbidden by its access permissions\n",
      "\n",
      "All Spotify logic failed. Using AI to find tracks based on emotion keywords...\n",
      "\n",
      "AI-powered emotion search activated.\n",
      " • Searching for tracks related to: 'disappointment' (39.3%)\n",
      "   Failed query for 'disappointment': [WinError 10013] An attempt was made to access a socket in a way forbidden by its access permissions\n",
      " • Searching for tracks related to: 'disgust' (13.8%)\n",
      "   Failed query for 'disgust': [WinError 10013] An attempt was made to access a socket in a way forbidden by its access permissions\n",
      " • Searching for tracks related to: 'embarrassment' (9.6%)\n",
      "   Failed query for 'embarrassment': [WinError 10013] An attempt was made to access a socket in a way forbidden by its access permissions\n",
      "No tracks found using AI emotion fallback.\n",
      "\n",
      "All systems failed. AI and Spotify have nothing left to give you. Good luck out there.\n"
     ]
    }
   ],
   "source": [
    "mood_bot()"
   ]
  },
  {
   "cell_type": "code",
   "execution_count": null,
   "id": "98685c2d-2629-485e-97d7-7de37f35a66d",
   "metadata": {},
   "outputs": [],
   "source": []
  }
 ],
 "metadata": {
  "kernelspec": {
   "display_name": "Python 3 (ipykernel)",
   "language": "python",
   "name": "python3"
  },
  "language_info": {
   "codemirror_mode": {
    "name": "ipython",
    "version": 3
   },
   "file_extension": ".py",
   "mimetype": "text/x-python",
   "name": "python",
   "nbconvert_exporter": "python",
   "pygments_lexer": "ipython3",
   "version": "3.12.7"
  }
 },
 "nbformat": 4,
 "nbformat_minor": 5
}
